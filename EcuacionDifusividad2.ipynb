{
  "nbformat": 4,
  "nbformat_minor": 0,
  "metadata": {
    "colab": {
      "provenance": [],
      "authorship_tag": "ABX9TyMDCCX+Thar6DSOXBjVnoYd",
      "include_colab_link": true
    },
    "kernelspec": {
      "name": "python3",
      "display_name": "Python 3"
    },
    "language_info": {
      "name": "python"
    }
  },
  "cells": [
    {
      "cell_type": "markdown",
      "metadata": {
        "id": "view-in-github",
        "colab_type": "text"
      },
      "source": [
        "<a href=\"https://colab.research.google.com/github/LARP28/SIM_YAC_ROMAN_UPSE2023/blob/main/EcuacionDifusividad2.ipynb\" target=\"_parent\"><img src=\"https://colab.research.google.com/assets/colab-badge.svg\" alt=\"Open In Colab\"/></a>"
      ]
    },
    {
      "cell_type": "markdown",
      "source": [
        "**Ecuacion de la difusividad**\n",
        "\n"
      ],
      "metadata": {
        "id": "NIgrbnx4SYNQ"
      }
    },
    {
      "cell_type": "code",
      "source": [
        "\n",
        "L=1000\n",
        "N=10\n",
        "P0=0\n",
        "P1=4000\n",
        "P2=4000\n",
        "P3=4000\n",
        "P4=4000\n",
        "P5=4000\n",
        "dT=1000 \n",
        "dX=L/N\n"
      ],
      "metadata": {
        "id": "WBg1hg2jTo9Z"
      },
      "execution_count": 16,
      "outputs": []
    },
    {
      "cell_type": "code",
      "source": [
        "def ED(P1,P2,P3,dT,dX):\n",
        "  return (((P1-(2*P2)+P3)/(dT*dT))*dX) + P2"
      ],
      "metadata": {
        "id": "gW2A41oks11b"
      },
      "execution_count": 17,
      "outputs": []
    },
    {
      "cell_type": "code",
      "source": [
        "pin1 = ED(P0,P1,P2,dT,dX)\n",
        "print(pin1)\n",
        "pin2 = ED(P1,P2,P3,dT,dX)\n",
        "print(pin2)\n",
        "pin3 = ED(P2,P3,P4,dT,dX)\n",
        "print(pin3)\n",
        "pin4 = ED(P3,P4,P5,dT,dX)\n",
        "print(pin4)\n",
        "\n"
      ],
      "metadata": {
        "colab": {
          "base_uri": "https://localhost:8080/"
        },
        "id": "4BcBMvHZTosn",
        "outputId": "5c684b0d-7383-41fd-c10a-a12fb36254ad"
      },
      "execution_count": 18,
      "outputs": [
        {
          "output_type": "stream",
          "name": "stdout",
          "text": [
            "3999.6\n",
            "4000.0\n",
            "4000.0\n",
            "4000.0\n"
          ]
        }
      ]
    },
    {
      "cell_type": "markdown",
      "source": [
        "La ecuacion me da los mismos valores que en excel"
      ],
      "metadata": {
        "id": "PZAKPkROnZv6"
      }
    }
  ]
}