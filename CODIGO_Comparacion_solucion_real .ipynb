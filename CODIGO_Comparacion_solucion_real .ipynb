{
  "nbformat": 4,
  "nbformat_minor": 0,
  "metadata": {
    "colab": {
      "provenance": [],
      "include_colab_link": true
    },
    "kernelspec": {
      "name": "python3",
      "display_name": "Python 3"
    },
    "language_info": {
      "name": "python"
    }
  },
  "cells": [
    {
      "cell_type": "markdown",
      "metadata": {
        "id": "view-in-github",
        "colab_type": "text"
      },
      "source": [
        "<a href=\"https://colab.research.google.com/github/LARP28/SIM_YAC_ROMAN_UPSE2023/blob/main/CODIGO_Comparacion_solucion_real%20.ipynb\" target=\"_parent\"><img src=\"https://colab.research.google.com/assets/colab-badge.svg\" alt=\"Open In Colab\"/></a>"
      ]
    },
    {
      "cell_type": "code",
      "execution_count": null,
      "metadata": {
        "colab": {
          "base_uri": "https://localhost:8080/"
        },
        "id": "j7B6KltRIAGF",
        "outputId": "1add17b9-eaa5-4dae-f7ad-c70d97d11611"
      },
      "outputs": [
        {
          "output_type": "stream",
          "name": "stdout",
          "text": [
            "[1 1 1 1 1 1 1 1 1 1 1 1 1 1 1 1 1 1 1 1 1]\n"
          ]
        }
      ],
      "source": [
        "# Simulador ecuacion de la difusividad \n",
        "import numpy as np\n",
        "import math\n",
        "L=1000 #distancia total \n",
        "dx=50 #delta x\n",
        "Distance=np.arange(0,L+1,dx) #Crear un vector de las distancias\n",
        "P01=np.ones_like(Distance) #Vector inical de Presiones \n",
        "print(P01)\n"
      ]
    },
    {
      "cell_type": "code",
      "source": [
        "PYac=1000\n",
        "PFrontd=0 #Frontera derecha\n",
        "PFronti=0 #Frontera izquierda\n",
        "Tiempo=400000\n",
        "DT=1000\n",
        "VectorTiempo=np.arange(0,math.floor(Tiempo/DT)*DT,DT)\n",
        "PXX=np.zeros((math.floor(Tiempo/DT),len(Distance)))\n",
        "Pdt=np.zeros_like(Distance)"
      ],
      "metadata": {
        "id": "gRHSrE7yIWtQ"
      },
      "execution_count": 2,
      "outputs": []
    },
    {
      "cell_type": "code",
      "source": [
        "PXX=np.zeros((math.floor(Tiempo/DT),len(Distance)))\n",
        "print(PXX)"
      ],
      "metadata": {
        "colab": {
          "base_uri": "https://localhost:8080/"
        },
        "id": "vtxejXk5W9e3",
        "outputId": "7ee60844-6ad7-44d9-b484-512c6d481d14"
      },
      "execution_count": null,
      "outputs": [
        {
          "output_type": "stream",
          "name": "stdout",
          "text": [
            "[[0. 0. 0. ... 0. 0. 0.]\n",
            " [0. 0. 0. ... 0. 0. 0.]\n",
            " [0. 0. 0. ... 0. 0. 0.]\n",
            " ...\n",
            " [0. 0. 0. ... 0. 0. 0.]\n",
            " [0. 0. 0. ... 0. 0. 0.]\n",
            " [0. 0. 0. ... 0. 0. 0.]]\n"
          ]
        }
      ]
    },
    {
      "cell_type": "code",
      "source": [
        "P01"
      ],
      "metadata": {
        "colab": {
          "base_uri": "https://localhost:8080/"
        },
        "id": "vbt8Ovav9GuN",
        "outputId": "20e400b9-b5fb-47e9-d582-928ea1407221"
      },
      "execution_count": null,
      "outputs": [
        {
          "output_type": "execute_result",
          "data": {
            "text/plain": [
              "array([1, 1, 1, 1, 1, 1, 1, 1, 1, 1, 1, 1, 1, 1, 1, 1, 1, 1, 1, 1, 1])"
            ]
          },
          "metadata": {},
          "execution_count": 5
        }
      ]
    },
    {
      "cell_type": "code",
      "source": [
        "\n",
        "P01=PYac*np.sin(math.pi*Distance/L)\n",
        "P01[0]=PFronti\n",
        "P01[len(P01)-1]=PFrontd\n",
        "P0in=P01 #Condicion inicial \n",
        "Pdt=P01 #Vector de resultados dt\n",
        "t=DT #primera interaccion"
      ],
      "metadata": {
        "id": "X3e55AnkIo8J"
      },
      "execution_count": null,
      "outputs": []
    },
    {
      "cell_type": "code",
      "source": [
        "P0in\n"
      ],
      "metadata": {
        "colab": {
          "base_uri": "https://localhost:8080/"
        },
        "id": "0apZTPQSI0ip",
        "outputId": "33c7fa02-62bb-4f77-af9e-b218649b5e74"
      },
      "execution_count": null,
      "outputs": [
        {
          "output_type": "execute_result",
          "data": {
            "text/plain": [
              "array([   0.        ,  156.43446504,  309.01699437,  453.99049974,\n",
              "        587.78525229,  707.10678119,  809.01699437,  891.00652419,\n",
              "        951.0565163 ,  987.6883406 , 1000.        ,  987.6883406 ,\n",
              "        951.0565163 ,  891.00652419,  809.01699437,  707.10678119,\n",
              "        587.78525229,  453.99049974,  309.01699437,  156.43446504,\n",
              "          0.        ])"
            ]
          },
          "metadata": {},
          "execution_count": 7
        }
      ]
    },
    {
      "cell_type": "code",
      "source": [
        "Preal=np.ones_like(PXX)\n",
        "Preal.shape\n",
        "P0in.shape"
      ],
      "metadata": {
        "colab": {
          "base_uri": "https://localhost:8080/"
        },
        "id": "g6KyXLy8JZ2l",
        "outputId": "db09998b-1c52-4f9e-9f15-01e8bdc36710"
      },
      "execution_count": null,
      "outputs": [
        {
          "output_type": "execute_result",
          "data": {
            "text/plain": [
              "(21,)"
            ]
          },
          "metadata": {},
          "execution_count": 8
        }
      ]
    },
    {
      "cell_type": "code",
      "source": [
        "Preal.shape[1]"
      ],
      "metadata": {
        "colab": {
          "base_uri": "https://localhost:8080/"
        },
        "id": "jEC2tNuJwD28",
        "outputId": "d6e093d2-5405-4964-d961-cfe400094f65"
      },
      "execution_count": null,
      "outputs": [
        {
          "output_type": "execute_result",
          "data": {
            "text/plain": [
              "21"
            ]
          },
          "metadata": {},
          "execution_count": 9
        }
      ]
    },
    {
      "cell_type": "code",
      "source": [
        "#Calculo real\n",
        "from mpmath import mp\n",
        "def Prealsum2(alpha,t,x,L,Pini):\n",
        "  sumpexc=0\n",
        "  Pexct=Pini*np.sin(math.pi*x/L)*mp.exp(-(alpha**2*math.pi**2)*t/(L**2))\n",
        "  return Pexct"
      ],
      "metadata": {
        "id": "JNDtdh5H6jDQ"
      },
      "execution_count": null,
      "outputs": []
    },
    {
      "cell_type": "code",
      "source": [
        "Pexct=Prealsum2(1,10,500,1000,1000)\n",
        "print(Pexct)"
      ],
      "metadata": {
        "colab": {
          "base_uri": "https://localhost:8080/"
        },
        "id": "GGG_TAPPauZ2",
        "outputId": "aae57044-332a-454f-95d1-987d8ecafc98"
      },
      "execution_count": null,
      "outputs": [
        {
          "output_type": "stream",
          "name": "stdout",
          "text": [
            "999.901308826284\n"
          ]
        }
      ]
    },
    {
      "cell_type": "code",
      "source": [
        "\n",
        "\n"
      ],
      "metadata": {
        "id": "zV1MoJrEYrVV"
      },
      "execution_count": null,
      "outputs": []
    },
    {
      "cell_type": "code",
      "source": [],
      "metadata": {
        "id": "awM2rhtD9WPN"
      },
      "execution_count": null,
      "outputs": []
    },
    {
      "cell_type": "code",
      "source": [
        "# Ecuacion de la difusividad solucion Real \n",
        "Preal=np.ones_like(PXX)\n",
        "Preal[0]=P0in\n",
        "for j in range(0,Preal.shape[0]-1):\n",
        "  for i in range(0,Preal.shape[1]-1):\n",
        "      if i==0:\n",
        "        Preal[j][i]=P0in[0]\n",
        "      elif i==Preal.shape[1]-1:\n",
        "        Preal[j][i]=P0in[Preal.shape[1]-1]\n",
        "      else:\n",
        "        k=1\n",
        "        Preal[j][i]=Prealsum2(1,(j+1)*DT,(i+1)*dx,L,1000)\n"
      ],
      "metadata": {
        "id": "-v6Mx4d7fN9u"
      },
      "execution_count": null,
      "outputs": []
    },
    {
      "cell_type": "code",
      "source": [
        "# Ecuacion de la difusividad solucion Real \n",
        "Preal[0]"
      ],
      "metadata": {
        "colab": {
          "base_uri": "https://localhost:8080/"
        },
        "id": "fuvdUCpZwnvN",
        "outputId": "7be0c887-83e7-474f-fe8e-57b4167dfbd3"
      },
      "execution_count": null,
      "outputs": [
        {
          "output_type": "execute_result",
          "data": {
            "text/plain": [
              "array([1., 1., 1., 1., 1., 1., 1., 1., 1., 1., 1., 1., 1., 1., 1., 1., 1.,\n",
              "       1., 1., 1., 1.])"
            ]
          },
          "metadata": {},
          "execution_count": 12
        }
      ]
    },
    {
      "cell_type": "code",
      "source": [
        "def Presdt(P1,P2,P3,deltat,deltax):\n",
        "  return(((round(P1,7)-2*round(P2,7)+round(P3,7))/(deltax*deltax))*deltat)+round(P2,7) \n"
      ],
      "metadata": {
        "id": "h1CFqMipI2aN"
      },
      "execution_count": null,
      "outputs": []
    },
    {
      "cell_type": "code",
      "source": [
        "PXX[0]=P01\n",
        "P0in=P01"
      ],
      "metadata": {
        "id": "Up_s1Mv8GTi5"
      },
      "execution_count": null,
      "outputs": []
    },
    {
      "cell_type": "code",
      "source": [
        "\n",
        "while t<Tiempo:\n",
        "    for i in range(0,len(P0in)-1):\n",
        "      if i==0:\n",
        "        Pdt[i]=P0in[0]\n",
        "      elif i==len(P0in)-1:\n",
        "        Pdt[i]=P0in[len(P0in)-1]\n",
        "      else:\n",
        "        Pdt[i]=Presdt(P0in[i-1],P0in[i],P0in[i+1],DT,dx)\n",
        "    PXX[math.floor(t/DT)]=Pdt\n",
        "    t=t+DT\n",
        "    P0in=Pdt\n",
        "   \n"
      ],
      "metadata": {
        "id": "gjh5A9G-K_zi"
      },
      "execution_count": null,
      "outputs": []
    },
    {
      "cell_type": "code",
      "source": [
        "PXX\n"
      ],
      "metadata": {
        "colab": {
          "base_uri": "https://localhost:8080/"
        },
        "id": "VvpjLU0wLxRi",
        "outputId": "7ae3283f-8081-413b-f300-fa7bb1cb07ef"
      },
      "execution_count": null,
      "outputs": [
        {
          "output_type": "execute_result",
          "data": {
            "text/plain": [
              "array([[0.00000000e+00, 1.56434465e+02, 3.09016994e+02, ...,\n",
              "        3.09016994e+02, 1.56434465e+02, 0.00000000e+00],\n",
              "       [0.00000000e+00, 1.54893691e+02, 3.05357075e+02, ...,\n",
              "        3.02454052e+02, 1.52268514e+02, 0.00000000e+00],\n",
              "       [0.00000000e+00, 1.53121568e+02, 3.01542055e+02, ...,\n",
              "        2.96021507e+02, 1.48862306e+02, 0.00000000e+00],\n",
              "       ...,\n",
              "       [0.00000000e+00, 2.45378580e-01, 4.80742180e-01, ...,\n",
              "        4.21427220e-01, 2.11591540e-01, 0.00000000e+00],\n",
              "       [0.00000000e+00, 2.41372600e-01, 4.72893720e-01, ...,\n",
              "        4.14547080e-01, 2.08137140e-01, 0.00000000e+00],\n",
              "       [0.00000000e+00, 2.37432000e-01, 4.65173340e-01, ...,\n",
              "        4.07779260e-01, 2.04739140e-01, 0.00000000e+00]])"
            ]
          },
          "metadata": {},
          "execution_count": 22
        }
      ]
    },
    {
      "cell_type": "code",
      "source": [],
      "metadata": {
        "id": "YbXB7S8SqxzE"
      },
      "execution_count": null,
      "outputs": []
    },
    {
      "cell_type": "code",
      "source": [
        "PXX.shape\n"
      ],
      "metadata": {
        "id": "8h2isKLCNGaU",
        "colab": {
          "base_uri": "https://localhost:8080/"
        },
        "outputId": "76f943ab-5582-40c7-c9a5-deab978cac42"
      },
      "execution_count": null,
      "outputs": [
        {
          "output_type": "execute_result",
          "data": {
            "text/plain": [
              "(400, 21)"
            ]
          },
          "metadata": {},
          "execution_count": 23
        }
      ]
    },
    {
      "cell_type": "code",
      "source": [
        "Distance.shape"
      ],
      "metadata": {
        "colab": {
          "base_uri": "https://localhost:8080/"
        },
        "id": "jZTIS5p4bvFp",
        "outputId": "8617459a-9d7e-4860-ddf2-f2a08222b0b8"
      },
      "execution_count": null,
      "outputs": [
        {
          "output_type": "execute_result",
          "data": {
            "text/plain": [
              "(21,)"
            ]
          },
          "metadata": {},
          "execution_count": 24
        }
      ]
    },
    {
      "cell_type": "code",
      "source": [
        "import matplotlib.pyplot as plt\n",
        "\n",
        "imgplot = plt.imshow(Preal,aspect='auto')\n",
        "plt.colorbar()"
      ],
      "metadata": {
        "colab": {
          "base_uri": "https://localhost:8080/",
          "height": 452
        },
        "id": "ITZn9PDOTjd3",
        "outputId": "3b23a9e9-c829-49fc-c61d-8fc020e20675"
      },
      "execution_count": null,
      "outputs": [
        {
          "output_type": "execute_result",
          "data": {
            "text/plain": [
              "<matplotlib.colorbar.Colorbar at 0x7feafd7af4c0>"
            ]
          },
          "metadata": {},
          "execution_count": 25
        },
        {
          "output_type": "display_data",
          "data": {
            "text/plain": [
              "<Figure size 640x480 with 2 Axes>"
            ],
            "image/png": "[encoded data removed]"
          },
          "metadata": {}
        }
      ]
    },
    {
      "cell_type": "code",
      "source": [
        "PXX[0]"
      ],
      "metadata": {
        "colab": {
          "base_uri": "https://localhost:8080/"
        },
        "id": "rCUqu8mEBIVu",
        "outputId": "10fcbe52-1e9f-4265-d004-3f0bd6ec088b"
      },
      "execution_count": null,
      "outputs": [
        {
          "output_type": "execute_result",
          "data": {
            "text/plain": [
              "array([   0.        ,  156.43446504,  309.01699437,  453.99049974,\n",
              "        587.78525229,  707.10678119,  809.01699437,  891.00652419,\n",
              "        951.0565163 ,  987.6883406 , 1000.        ,  987.6883406 ,\n",
              "        951.0565163 ,  891.00652419,  809.01699437,  707.10678119,\n",
              "        587.78525229,  453.99049974,  309.01699437,  156.43446504,\n",
              "          0.        ])"
            ]
          },
          "metadata": {},
          "execution_count": 26
        }
      ]
    },
    {
      "cell_type": "code",
      "source": [
        "\n",
        "c = plt.pcolormesh(Distance,VectorTiempo,PXX)\n",
        "plt.colorbar(c)\n",
        " \n",
        "plt.title('Distribucion de Presiones', fontweight =\"bold\")\n",
        "plt.show()"
      ],
      "metadata": {
        "colab": {
          "base_uri": "https://localhost:8080/",
          "height": 452
        },
        "id": "oJrtLNCGav9H",
        "outputId": "799b54c4-7e02-46c8-d92d-47fdede507bf"
      },
      "execution_count": null,
      "outputs": [
        {
          "output_type": "display_data",
          "data": {
            "text/plain": [
              "<Figure size 640x480 with 2 Axes>"
            ],
            "image/png": "[encoded data removed]"
          },
          "metadata": {}
        }
      ]
    },
    {
      "cell_type": "code",
      "source": [
        "PXX.shape\n"
      ],
      "metadata": {
        "colab": {
          "base_uri": "https://localhost:8080/"
        },
        "id": "OIgztDUiBYK2",
        "outputId": "f26848b1-b8ac-4ca0-82e0-336693da2077"
      },
      "execution_count": null,
      "outputs": [
        {
          "output_type": "execute_result",
          "data": {
            "text/plain": [
              "(400, 21)"
            ]
          },
          "metadata": {},
          "execution_count": 28
        }
      ]
    },
    {
      "cell_type": "code",
      "source": [
        "math.pi"
      ],
      "metadata": {
        "colab": {
          "base_uri": "https://localhost:8080/"
        },
        "id": "1gcolFMsHZ7J",
        "outputId": "cf3df20c-c808-4a22-989c-3cc65f668553"
      },
      "execution_count": null,
      "outputs": [
        {
          "output_type": "execute_result",
          "data": {
            "text/plain": [
              "3.141592653589793"
            ]
          },
          "metadata": {},
          "execution_count": 29
        }
      ]
    },
    {
      "cell_type": "code",
      "source": [
        "%matplotlib inline\n",
        "import matplotlib.pyplot as plt\n",
        "\n",
        "from matplotlib import animation, rc\n",
        "from IPython.display import HTML\n",
        "import matplotlib.animation as animation\n",
        "\n",
        "\n",
        "# First set up the figure, the axis, and the plot element we want to animate\n",
        "fig, ax = plt.subplots()\n",
        "\n",
        "ax.set_xlim(( 0, 1000))\n",
        "ax.set_ylim((-1000, 2000))\n",
        "\n",
        "line, = ax.plot([], [], lw=2)\n",
        "line2, = ax.plot([], [], lw=2)\n",
        "# initialization function: plot the background of each frame\n",
        "def init():\n",
        "    line.set_data([], [])\n",
        "    return (line,)\n",
        "\n",
        "def init():\n",
        "    line2.set_data([], [])\n",
        "    return (line2,)\n",
        "\n",
        "# animation function. This is called sequentially\n",
        "def animate(i):\n",
        "    x = Distance\n",
        "    y = PXX[i]\n",
        "    y2=Preal[i]\n",
        "    line.set_data(x, y)\n",
        "    line2.set_data(x, y2)\n",
        "    ax.set(title='Presion  days ' + str(i*DT))\n",
        "    return (line,)\n",
        "\n",
        "# call the animator. blit=True means only re-draw the parts that have changed.\n",
        "anim = animation.FuncAnimation(fig, animate, init_func=init,\n",
        "                               frames=range(0,math.floor(Tiempo/DT),20), interval=200, blit=True)\n",
        "\n",
        "HTML(anim.to_html5_video())"
      ],
      "metadata": {
        "colab": {
          "base_uri": "https://localhost:8080/",
          "height": 937
        },
        "id": "haX6cvvfcnD-",
        "outputId": "89ffa0a1-3296-4db3-ffd7-10ca5d4a87b5"
      },
      "execution_count": null,
      "outputs": [
        {
          "output_type": "execute_result",
          "data": {
            "text/plain": [
              "<IPython.core.display.HTML object>"
            ],
            "text/html": [
              "<video width=\"640\" height=\"480\" controls autoplay loop>\n",
              "  <source type=\"video/mp4\" src=\"data:video/mp4;base64,AAAAHGZ0eXBNNFYgAAACAGlzb21pc28yYXZjMQAAAAhmcmVlAABMTW1kYXQAAAKtBgX//6ncRem9\n",
              "5tlIt5Ys2CDZI+7veDI2NCAtIGNvcmUgMTU1IHIyOTE3IDBhODRkOTggLSBILjI2NC9NUEVHLTQg\n",
              "QVZDIGNvZGVjIC0gQ29weWxlZnQgMjAwMy0yMDE4IC0gaHR0cDovL3d3dy52aWRlb2xhbi5vcmcv\n",
              "eDI2NC5odG1sIC0gb3B0aW9uczogY2FiYWM9MSByZWY9MyBkZWJsb2NrPTE6MDowIGFuYWx5c2U9\n",
              "MHgzOjB4MTEzIG1lPWhleCBzdWJtZT03IHBzeT0xIHBzeV9yZD0xLjAwOjAuMDAgbWl4ZWRfcmVm\n",
              "PTEgbWVfcmFuZ2U9MTYgY2hyb21hX21lPTEgdHJlbGxpcz0xIDh4OGRjdD0xIGNxbT0wIGRlYWR6\n",
              "b25lPTIxLDExIGZhc3RfcHNraXA9MSBjaHJvbWFfcXBfb2Zmc2V0PS0yIHRocmVhZHM9MyBsb29r\n",
              "YWhlYWRfdGhyZWFkcz0xIHNsaWNlZF90aHJlYWRzPTAgbnI9MCBkZWNpbWF0ZT0xIGludGVybGFj\n",
              "ZWQ9MCBibHVyYXlfY29tcGF0PTAgY29uc3RyYWluZWRfaW50cmE9MCBiZnJhbWVzPTMgYl9weXJh\n",
              "bWlkPTIgYl9hZGFwdD0xIGJfYmlhcz0wIGRpcmVjdD0xIHdlaWdodGI9MSBvcGVuX2dvcD0wIHdl\n",
              "aWdodHA9MiBrZXlpbnQ9MjUwIGtleWludF9taW49NSBzY2VuZWN1dD00MCBpbnRyYV9yZWZyZXNo\n",
              "PTAgcmNfbG9va2FoZWFkPTQwIHJjPWNyZiBtYnRyZWU9MSBjcmY9MjMuMCBxY29tcD0wLjYwIHFw\n",
              "bWluPTAgcXBtYXg9NjkgcXBzdGVwPTQgaXBfcmF0aW89MS40MCBhcT0xOjEuMDAAgAAAHe1liIQA\n",
              "E//+97GPgU3IAA2XOop6H+EVsfSQUXqx2aBk6gAAAwAAAwAAAwIoF7XikDCZXnXgAAAZMhT38jUW\n",
              "HiAKxzwAItYqor2xfO/E/4BuDl9qB67gXR8Ol+MOiYz0Hs4jC1iQWtUYrP4B6UUZipq+kRfcG5zG\n",
              "753NpDciG9j5/QIDDoaPf4HD7hFKiCqpoLZOYam4bEJ6HDpH0YfEQK5xFOGIevdQ1sufH7YYgrdJ\n",
              "Wo213edv3/Ho/7E16Xsh8HTNA2/xTkAM8lnlAYxRHgJW76VE1W3Cy+9+FGbHpXddvNSDohKBD7Ml\n",
              "zXGb0whvZpvAD2NaUybMDeFuXt/Zdra4KgwSk1uIbc9Ay5jCH6aecCIP+J0kuSyygX09ro6FMtGn\n",
              "wctmwkTJzL6B8trcZ0F8Va0/T+cLP5PHxQ/o0p1j+9Lzy+2zPqbHfclc5KAVpmIuxEJbdSrGS5bX\n",
              "tTqiOzJRw+Mqgq2wX/K3071mtMJ8Me6o7hF69ZkGLWlKFwjKz/WhwJxqMSj6PHbtMYUoQFBgovKf\n",
              "k4eT4bMG8xZ3floQU/uEN2PGZm5BMcYf5suLdGPgH0DoesXZ5zBXMlTuvP23g34+HB7keDNot2QK\n",
              "NXZJumD/TGJtN+PjZHmCXolS3La/H/oi0xlYYwrx7ycMAZvUnyLikoJnZHDgsAn83ANg8QsviomH\n",
              "35xS/GLTU8yaAmYJDGc8a0Zllqvfv9tRDy9adhX0FU/QzpszqJdE/IfFzDOI/0dwuKwl/1gWIVDn\n",
              "qaa2m+107feNS8ChyCLW61Il3+xcwMJCC4ZqldLnbpfJTk11SqY1P4a3Ac1UylDvWft2JsctNzHO\n",
              "KXn2Ob6m0eDGaW26Xep45JQyoPCT1ajyJVJCwxS68FV+onawwPNk1+YZwSlEU4+9WnXsq+xwW1I4\n",
              "PMQcGdv3GuzjuJu3zxO91TdfPI4q/i5OMRsBWAotuC/fsnWew6TELcOrgxcJWpz8XJSKhpUS1xje\n",
              "RUL0Ngyu/E6iE2VR6R8DeCemEoynAdhHqPOAepmB1ZN9b7fTQyI9bg33oC6MoPoehcVusXA2mxOG\n",
              "85BNuL71Pef3Gqb7S9+LLTB8qYVSC6HY85VoXe6fbz8h6wsGD43lVhWk5dSFPbJkITpPBZz1SRzU\n",
              "rjspYXB8hr6sQkhpOubc/JQmD4qtYYLot3OBb86je4X9A7s5gpW2aHc//evhT6J/cSnTZf9YmrX3\n",
              "c4vJD1j6v0cDXQF20/tNuAj//BjfumaOVvvn/iIw6ec8h/XYXhV8rfXDVSII/A2fK90FpHNNaCa/\n",
              "NL9tO0p7bE38jJhOSFCbCMvzB2Y3LtlYLkZ4n1j8RY5LEv/HIw3tUd551e8bVIxXIjsDOrWtX7TQ\n",
              "iL/Tf+ZF/awKPUWEjoB6NqPk/l8KEsFqFDLNqeGlTJLelR0F1NMjLxvzZKzhHFE3KAz/Y6uIDp8n\n",
              "cVSIwIkwoe1f0ibz3YT1H2nOqMwDcArrHioJ/XyKkdxf+++Okbu1MYSa/PrP8Bo6MjkrHi3Fom+Z\n",
              "3ny64RBmzDVz4yyB9sp+D+OdVsJ1kwTHT5wt9ElCRtbfPxnv/n3+FtwzXd2sSqijo46wArmc3bPA\n",
              "8WZUIYUQDuKCIZ0W9F+1MvY0v0P2twA7e1kTb8oNV3sdRK2xxmlUFS1qvFO3PitFehMRN5oZrFkp\n",
              "gX/T3muxG0X9OQcNtv4GlMM3tCiml9MQQ+gEX/WZpSD6UvJQQ3h+MziWrjvgJA1LGnA46D475+Bh\n",
              "guWwz6s/K5aN4YDCyHJeO1awppFOQKzB/qGuurPj35a5Lfer7h2jIP/t/7Jk/7hKwU4UrG2Z6cMo\n",
              "QHcX7fPZIFJEogI5nvJaabAVTTy4YO675soZaetN60RYNDTPk4EADPh97aDf1cZqYytEy7mVRRVr\n",
              "gVMxyrVMF4dBD/JxRi35tDlOQQk5da0hB4gtXqo1i9MhojLGXhDWUNs18DmAWhC+RLsvxDWm6vQ/\n",
              "vC484LrZXK+PePHq7lB4/XnWthuDU7PIOnl8Py/XoM2JDU9BReHINC6rqqPNeJS23y5q9JUzgp6M\n",
              "BYbUll1NwIJhTH1eWtBsTHQr99MCAi27k/bQSOUqA1rGCS18cHkcAMHZsZthmw8kPAUw6PCtVOQ+\n",
              "V2DO439one+cxuYDiFEtal8IW7VhrXgzJQAB/CQ0rzoJn2b7qh+6vm3LxhSxbqsTPGsMA3YOgDLD\n",
              "L1MhOIyRa2etugWbDTNv6NW6q1q1W4gumNZbFg6U3ltLGh7aopMdXs5TUuLxG1/I0vK5cBgHFPV0\n",
              "bOQMlfeo5etLkhSsh0RxcmW5CMdIky/vpuhAJFXtTwjavLuEvz/CiLQ9e1JAliBvS2+ua8b4XxEM\n",
              "aLqeSDb0a4/9RVqCwOWqCC0/LECyW1B1sDAtGvapuQ8vkS1/IGOG6vCTkLYQXCPwlUqSHgvbYRBe\n",
              "vdo86wd1YInEKCx/K5+DejwjysIblSZCo+jaFUsTpLWrA5cdKrqetixu3eV5HZGHs6lgNcHiHJjJ\n",
              "YgPgtOYlH2eVA2JEbkqwfWezBvnd9KxBgfLjF4RzoVJTDg2fqZL4KUudHVj8PE9kHeo++meD2r1I\n",
              "fO+gQewG0Jnkj7hNfctbDuJ+p2lcF5YDK0xWo74MHZRlDAxCOk7nrBa6bXe7XUqdqcUhXsTe4AAH\n",
              "JsXiAdjsD9iAEVwD88ngAAKEOrlb50deMAaxeAitE2+PaApcwt296cIuPMOTWjGl7AHJzlHHluTl\n",
              "HPqSoTQOtBKjmLKY6flhnI2dd9h2hw1QHhdKmCW5ggHy4T415Vaz/WAk6TRKUHOvfQam8JZbFG3k\n",
              "fAQoxGyl52REhHZGoHtasM9efv9u28xab3DjTGn4Z7i6fvJiVDVNGvG5RxWa9CVXB7JQIncYDDtV\n",
              "GL1zCPFGFSzZ+M+A1dza6g2OUPMCfMyNWJeFqci7DkSb0XBJItDUu9pCv/9zHah8It0e+kRBZHmk\n",
              "eBs0eVtThIYXDaPWXT+WfSpVXo7ANnUJOBnh34YR2e/ApwYZscDJ+Yp/J4+EPQUpZI8LotGAhQfn\n",
              "b8njvwmLj4pwwWiywA+H23H4m2bxOWQ20iI2cGQd+7liCjqXhdC0LD+PgJTHLbYMrZ/0WLjrnMTu\n",
              "cRnP/CA/+2UsAI4XIiVCnMOKUq8o6jybq5IT9JVnZOJh3iVzV9qwxI2Y4PzHn3q69u5yFIKrcn7p\n",
              "FQrLogFc11+eobCcpVLBSfxaBicKPHNWvW1OOB0lNmaNKFfsyKfFBmS1eDePrXcyfxFq2biPRH/d\n",
              "V6UZRHESLmWNlFR+W+nzB0zduUdOyRMYp0FHgO1vDrKcrDnXUai7G/MXZs4/0jaTKGVJEtlKdIwp\n",
              "YfoEv4Efw1rI/3TaW68d+av/pz/mHh0l4SA5j/1GN/C4Ak0Rdsqs7vefUaGvskR624AtmAE8FbE5\n",
              "IxBsA/cSLazxM5ynwh1H/oJllEXm12SK/FBGA4/mTnS7HOUVqJmeJAQnGuDmyLG9dVozbaH7XHDg\n",
              "ctThHeVtYW0vcHkgWZQtSEyXlhSiV8TDAm7mtnL1qzgmkLaOymsmsAIETHrGo9SEHsUqBX7oDS9g\n",
              "DlMAFoIZvrKrVugxF/xTaTL+H1wwy70vi3MeZ+aDE8EV5Fxcy+lXcsiKqsfp5U3//fm7pcgHtdjY\n",
              "66GwKxCvRIzZ9cXGku6fv4mLIuD0oq/WGmLYoFL+sc5tvWOnC0Krb2w6/Bqg3cchK3oNcCMGAkMN\n",
              "JVWSy/UuVFszVSKaBqD9pvzRtuisRWvmlOudQs/emZ5cqoNdYwf7IZBaeFyktFpjh6qhUFZ2TWrZ\n",
              "A0ereCE900bkXGpQ4IXh1Lb03jWG7pyfMLikCgcXdz9r/IUwTFVYHdPET2q6naL/XYts7/+AhgHC\n",
              "4UzjlhFJRkJvj7Up49GqdB8lOtDdzrGez7GR9ZvyudHxunjYHrJuTAdOHkilGoyaEoumLpBtzpx0\n",
              "BP9JoGkC/FshlEmB7tj/ly/McH9ylDU39Tv8OrN/DugJthsK6hSvfSb2cvFKMyLY6AIsJjcBFrGi\n",
              "v+/uYVDOQ7m99hL+LH91CxfcYYAR1gcbkFsxlFuq7ERFbjtMCdMN4MOZBWqhH2tn3QLvCWT0Wvkx\n",
              "wKzw+CiD0UbNgoAQ8nN2cKArlrfG3G1SoHWiXCp6oFN45AyIl1stcNDs27PrlwKhcv2t5H0Qjd18\n",
              "P6EKEZH6XwoexkYRJ2Z/dz6GoTr+zrMr2+czluyEKJb+gigzlRHR7pDzYRyBUi5+gEpYuccRqVZp\n",
              "ySoRoFM/Dfde3syYsyQzsGTm5arX89pWkPpypYMd5Ht/mAtvXnk/3hh00zzWGHOYkFTKQwJY/2Cy\n",
              "qYC3Hc1r0pMuYoAKi2wkLzvt8i3pTWZiXi0x8akEJ1zEgB+HsjtZEV7FcDtGpivALHgT/8mlteyZ\n",
              "1y6kt1ItHs0gnM0wsAP3Cy6UGXplETJNwMlurA/q3bn+pUJiVRY6ehfRRCirIaVNCjJ7kgTqeSIL\n",
              "qQ6mxm35CLxWDKbagKG3+jiQ8fel31ElXE/+OEZIaM9r/EISX1NDpoP6LN2CzE5qA7lxUNY9cNCG\n",
              "19RSnXQp8uht3R6VUuHl6TgK4LBfdZAL9/TYABgW8a4dCgPUQBO/ICm6we7nVdbEZpt3ngm38H//\n",
              "zqs+T9Lwhp1/zN5s0A3WmUpLObpbNbpkpgLJLX5OHutj5UIoezFM+AZLhg4MXrshurjyW2xCF2OM\n",
              "tsVBzNJ6M4A39BcRHysY662i9rP6kxwdSxuqBxpSLhfZsCMmaJESDkICeMvVLFL8Rah1HkWDa88O\n",
              "nJloH21/xLH7UbI2xXfv/ekoqkwWpQoKPy2pATPrKux/udAc315btj1M/hexkJyfefR6pm0klcxd\n",
              "jAbAHJAAZy2qKnmn+8Y3gAHVDt7ZgwIMewjbLFPj871LVqHJcoyEd6addFzyU3iAzF8gIKMyENUS\n",
              "q4MF36ShovNoxliAjYKFJBAnggcZywgUTi8pUdezrhGCqNo5h2sGsqZtFTe/XqDb3UDd7M039ngP\n",
              "XtTk9ycIE2BSb7wmmkQMd2F1688wk6hkmMFrVPwOVosSZJ28K0ZkNxM40q3n4rf3y+muEetDnOTG\n",
              "lfAsA88r6l/2CgHlGAHCnWxY84HTiuQzN5FHGHNBwDOTH3hWNteD0ePkR8JzJb9EeKOQthR8VbNu\n",
              "DtTZ+5zr4TqKPUHr9X7qcA8F2L8XD9ZdKRhiV/+zPZYA/S2Ye72+ulQHOXi9OUH0NSQ9L71Do7MY\n",
              "qzACSMcuDLA5qtUhUKoGaEAa+QleVPap5l4GH25EkV2KdGM9cIA+sOmeKxuy0OAU0q5xgQxLgn4F\n",
              "WXcPDHNUcjLviQG9odaF4lMrltDn2erIHDULP/rNrn/V1YkK77f3aRfu6t30RiK8cmKUpgtLJJmL\n",
              "44gCkTAeLFf7DxVmoxRMtwpT04RnodbpOyAAqv6ngAfEmP+dJ8jlWbl8yUHG1AqU5hz0/++Vkqzn\n",
              "ta4pUzTu+l7lXmXN4tXqgAFWRaHTyndwk4vqjWlJm1LhdwShoABmLdvDGN/eEHhTzMH84d9MuNHM\n",
              "rSohdohfar8iX1VLVRtwX532MrMW4u0it8NnN2JldOTl9mfpNpytrJnQM7b+JJFZmN5zVK9mlTRE\n",
              "GdmbSFMozAUGeVDJ50lhgnOjs3xbmHD71jGlQkHqsubfGAen9xMq4NUB7ooFym6pBsYBFalAhLua\n",
              "0WePdPsIMNy8K8STh9SJgixFIrNtaaadtY0eVHFtLbtzKmekFE+5RRAfTdTyj14E5OgYF007/kPl\n",
              "vb5vn9lEVoRzVZe6NiTZSRqJ/lHTip/T+Q6R2KLBj+12v35u3BzsqUh/Rd3ZudoRDS1DhVR1/mUx\n",
              "2ek8rB6lwTRYHw43AGV3PBfgDkrxyNzpvMrUd71AAbGDWbWDuM+AbxkRTdt5lDvBdl0dKvyOjYF1\n",
              "eFzJhxnSpGMxXlE6CSfTdEMASZlkvBr9mAOubjx9bhOUYMDCCWWvEHzsl6G+vnlQZsIX1Xk50jUj\n",
              "0tQhDXtI0pVJ/qacpFBd2ui0RYGtMULsa5Tp1nGjMBZvIOIKJaAvkUT5RFVFm+99phOQFrKFSqW0\n",
              "GU76QIJJ0l4zEXK1qWcxc+8Y9H+hGFBJEwrtMXtndiqdqTgmc6tRsj7abpQtDmsGPRUFiAsNU7mr\n",
              "gyVxAVMHJ+vvWR2dbv/o0peGajmu0XqdALCG2g/hWAzRVVAgtH4KMJ5FQIQBhEvsczcnNXH+3Ap7\n",
              "OAB+XePAAoG3GvjrrdcK9EtQX+PfsVUrW1RJc4dFHUi2iy/4ttBsa3PV2qKBjdeQGNLeNtb5B91O\n",
              "3kjmRrxFywqrM8SE/JUPT5Kj+BmZZwAFBg5wdZYK9aO4iWN1YLjfhwEahAMlQU4X4MXT0sTN0fUL\n",
              "0LemLf09316RLICPGk5DXXhr3KFKGC01MYHKiVAdYhDDlR+w+N34oUdH9w6DXp7tqhXPgB9HS8cR\n",
              "v+ZGMOgzZAFOAdBwusIMSCXKv+0zzYhT5RT0JX8abExHJwWQtLAlPUh2XnY9g8ubA036IgDMHbQk\n",
              "1G29G/2CARytbu39rnPvlMOPW70QtCW1NoUnVrjv6HqA8r1BJ3H9nH/S+9XaiI//Mlx+5VnB2A5/\n",
              "RUsiIGMB/YizWsj+o6Vb3Fhp97o8olqvm/edq9b6RVGuv+Riwz5kfSNa7q6jAIX7NplQRe9UXV2Q\n",
              "laMIm6tgGAcoAADpiKZ9kugIU7QNHf7qDP7jBDb1V4V8hHUONfmBbmEITZXz2pDhaf9zoEM5guk/\n",
              "Xh7gh3eZB9swOxZnG/cErXQb7zy7x5G+yCV2NMn29h0w4Jdrp5SCP5CeUV/Bi1tEwpOd7FfW2TWF\n",
              "kLm1pYRYpXG+VmNh8Igx0kdaNsm6GV0sy3fkv1CtjqmmF6sp1P/FMSqbKtjy+Q3v//+3LUf5pBQ1\n",
              "gsvOEEycyRlhnaE6bfVSO5gT2POcVPsGd8twlddXX1lB6UJhABLvNXhM2zLtov9ebPEudiGLUCf8\n",
              "3Vlqaix/BDbQchxXU+Q9//0Vg9NjDPwNh0EkocydfcN8APHWNjVisQgAAAMARJdvzAiRBAoOH/pZ\n",
              "P0l42xK1t2M3No9ILmwKlgAAAwAAAwB76vtIIGLhPW7hQ3Q2AtNKnGzyY+I9pnwjyfIPST+Q7ruI\n",
              "3+fvPIVYUekEHbEtdOLuulcWVfg3CmTYLM9pRyptYgeJo0/CWoPKC9OQ/t8IzGhsnnZdw5gTP8fy\n",
              "eYa9N9wFXfAUZkgj90zt9kLIpAMrMIbJ7s1zsfhJ+FO14LC/hiv1ECf+k3nyH62rJ3aiyhDoI9M5\n",
              "9oYly3e4o6UIMG+9d4ifXSuHqdnVRSej8L6Enq6CHFlz5991mtCBtkvyHcP4Lp91Jsy08NU7H8o2\n",
              "6aexvwTapU2uAA2Wm46dj7Nvz8gSE7wvfwqklVl26jTlBcFzz5hbTaefZNd1H2Ics+uI934jNDGO\n",
              "1cBum3RVhodZaHBLHmI5AG0yqrlBdXNhzMm4qD5IQAk5Cj8SqOf9T6O0fSpgNN563+WzDdBtjYYj\n",
              "VAAmD0tq6qrAAAA3wEw/ID3XYRiPb1gLjjun3eTP0cKLwYofNQnb9BwZnrft6/Y4Ah5R9TF+xvlk\n",
              "ri16l8hOxsawPfG5SgP2EcU6iEu/aNCgLCUwjKaDrQodDSsh/lv8igQJQ5IyYkdVDZQjsPB1brmj\n",
              "s0s5CWchPokQg/NCj0M97zJzsZgF2HF59GldpkGrQj9/STnqsTVmKB4AtlioRFgcR7aCLOn9UKLg\n",
              "PFwDfi5HuhCS+5wLHiP0UZ1bYdv1aImm566vkjWkI7n23oIXVU4g7fdP/NO/lOM8f2dlUN1mtlRT\n",
              "+3R9CgGSFxiJHJPBSz8T/t+EiHxc87ClWMhUAF/jnFhb2HgqdnTwhVzbRl/Bx2g0Z6oLzKXn5Dl6\n",
              "gD1Cc8odxLqkPsuF+w0DAwuJfeGxVJya7LjnBuffiKkRX/GwEkJD7HJ+mJxjKch7r7C1fw0yX6Qq\n",
              "85cuGOU/v2II4QsTWTGYU88edxyhC/9TJLn5OrRIDvldEPLe5JODTibvbQOjJoUazjPgBVKLaXIG\n",
              "uM1Yph0QoGACVY5A+bDO/N8WHU7B86//jS+N0tBhdTpiAg3Rr1mZ9/GaTknG0eti18nxLIH1aXpU\n",
              "dFeEah30R0s0hWAvjXV3coFjYwIMTe0rNsICx0pXBw4rVIf5xnpJK5TWXVaAXrmC134C5zV+wCAA\n",
              "L86YYMqT7dqmCy8uRNO6HjI4yXK1k89ZOU2mSC39w6b0nv70d+2S+R7wsLDnyiQ2DVXIdHjrMs3U\n",
              "tkpD+ri/doq+biM3ckulellsLa7QYPgKwQ0drB95wZPc4tdpDm2PB4MXbeVy1R76qr7Oyszit6jF\n",
              "VypvUJ19ATS+PN/GFfrj+gZ3ZaCeiIOwx/8lftidiNtxMc99Ul0Ew7r98Rr/org41SNYKz4zElT2\n",
              "pnG10giMRemvAwRBmOtOLFAY84eQOXHnXWZHPbA7A00nkGnXY54eIT1ZLR2SjGeiP278IG7nhfzz\n",
              "wC/vT4QOII2YCORJ8rEUkB8BBQO68xLhQhU4RtKnwu/pPybzmsWTpxuWgZImZ1dkP6HpJvuYXTJh\n",
              "45vjpacs6GsHw9ZdZxAx9DVvr5i2cxVLGuqKPp8UJAq3CU2nWKumJaPnih0RbcflUEMvAqIbQI8R\n",
              "9VhwyyaBGmICtCHFBa1KOJemjicSV/mocHWL0GKqxhz22w/oG7RmCRK2ggm9oyz7NVbcEwK+5H9f\n",
              "9uIey/N0IftOSJFnarAUz+jbtsGR189TbjYWpun01zs/pcreXzCaR1k3U0RxLktqKfebQL4SceL8\n",
              "Tz/699Ju7lkKXrPiegqq1Pia24fZiX34Tcy7RULW3XM4PFZCE2WqHba/6vaaxoKoHZWo0MjNw6o3\n",
              "g18AWhyiSRc/Uqoq3lhMC1Ax3idYrx8JONzRy3X8fX1US+Fd/Gab81DID1kSzr8XETMMgl4/l0DI\n",
              "UWaBsH4nnYH39plMTW6KHV57DBN1nWblFOL1p3JYuGexD2oK9fgYleQkhBdLyRyYV8r6/eaNGAzc\n",
              "vWHCbxivijpI32z2EmKO0wemd2txAH/b4qW+Kugq6fiYEZt10FpYTwWJbRSqssSh8AtAdyFJSifd\n",
              "YdWWhSP/VxVR7+p+JAVLRxeA51o+oQnwo7guP5RkATry84qKi8VJRPzPn0f5a6gWCEWdIadAe0jp\n",
              "Q3LrxSGj84YanKBmhv9J0FecdO4BKHgOhwBs2P4YMEf5QKPIT8BtuDl5LOJn8v5io6mssQAVnccy\n",
              "VI9j8XJmZpiGY3I5zMl9ZrHTm08y1ltM5+oDWuIO+9b1Y+tcbvBDjHqb7crFALoHemAZW2ZjhNPI\n",
              "dxH/VjJzkCYRzWYv1wH5PIkAHbuqEV6/mihbgHrYt1j4d4g0Y4gCfiNkQkuElCviueQ68HiAYXs1\n",
              "AoSrO6ocXZY9hz3nnwJXskE9dfeayCeKx0HF0tB6L5H4MIoeDjLZi+S21HS2DAUbNAJmNrvcgYQb\n",
              "/QUmchAe88Zws8IkYlmeBoihTPPBVGYfYMkxE98UD6oNgHMBDPS8E6a6hYdWukwQD+IkH1WS/H85\n",
              "SHrsOLcWkPYtGEV1D+MmJ/ljhXFbI1ZEU8rUwn4kc8d85jqzy5z9uY0BFcbCOI+sPOGKKyDOiZ70\n",
              "TGadco/nsIUrESqM5h18f5wtwWARo45q/O+Kcg8Hr5Awy7EbcSaghxaYePmfMc/2Is7AiO30XoMe\n",
              "kEaW9Oxe3RFS9ZL52YDLtbP2rSlicMRWaNeldCFuutg10sfgXrNZ8eSRzmXyT4pFxG69McVcT6J2\n",
              "F/vuGKdGxbYiP06B3r6vAB/NSVaRIlSixcF4eAI2aHm+XrOZc/4MP95aCsySfmRlFZEHLNOwCJA7\n",
              "YGnpBwWQwV12JfqacN1MBxajCgeVh+KxRyQvAvBweEw+q6isJX/SQtgVhK3EM7mZqk3tJnk5TeQb\n",
              "rzMOcu/tF+n53glYxQQuJvtrs5L4DcQk8qzV+IMLLhaKYHyFCgM/popzLD1UfInqtoNaxzvQjWRk\n",
              "7OhDHPHCvQYYJmAeMsKWuxHl+Wl9O1QCFrl29ywhnbHCu8oEFmRHXgbusMIQduDvPJM7vRWHvy+f\n",
              "UJK2E1rExw0fhnM1hhEM+Lu9a47icKqysHavkNuLGQP1LN5Rcuyra0I7+ovUDIcaUS5m/fR0Wlyl\n",
              "5dc+bdPJKg7YC5ME8oJIAACUgQAAByxBmiRsQT/+tSqACuB5eojAAbpgcT2pcYHCr3Ipbf7Fn3K1\n",
              "s9n3Lql3jldoNgDcKotnfuMhr54KqRl/0Nz3mIQ8eOyDL2rBCCkrrPb1dsfVXrhqSlkKBssfU8S1\n",
              "bkxxEPUFl/kWTiONAekktJCEHBywNMimQ3HqOWIOiA/k4VUO+4x1qyzZTCgVILYygdZ78hAb3Cc/\n",
              "/QCV9xAQ4ZYjjEeZ5GYBLywbLyfp2zDfJAyRTfzsxY4NGKmk+0if4MhmXyCy3JxlxOBgxz8eeig/\n",
              "VhZhp5YR3tOOWn3XIcMR4O1AEudi60dXlSvc+3Wh0iFD06ait1xvAv8YUCr4URBRxSRCzUVDKrW+\n",
              "gPgaKsYSki2dV2lXhfN6tvMjB/23KUrCObGjaVoO6I/QeQYQYbF15/qUg1VRbI1S6Cn9CNPB1LBY\n",
              "EI+TUOEurBH+AaQ/h4W0N5ylDfG7k6Mss6/jIRSGNBPFZuTMTPdnJi0ESyLdeaOSw7lZvKxXuMW/\n",
              "2rEW5GT9DFFygvtXhxcbxrGU+If8iKKi0WUMsWitZU+uUD3EVo6kmg2qhzRkvE1mWssGMS0r4f+2\n",
              "RDvtorN4Om+Ata2U1DEclZtQV/NdasACoHoBnvEWRbRmZqQb+nzQd0QVhICe4TTlZeh2FVGrh0H5\n",
              "2hNrFwEihxeTg1cNlfb1wJRgppCZ88/J7HQEcfXe2kK0e2iY8V1F+Cz2Z8k59wkHWCcIcgb0EJ/x\n",
              "WOcCOwrcuRp9YDsdf0JvO/JIT8fmyxqreL2T19kuoCRNT3FKVuqJIQNfmrBY+NG3fAFBwRqFUSuH\n",
              "N+pRvKW0x9BTF0Ok9Ezq3tWusqJCokx8AVEWkUG9Lj2fswiBeJKgDi76bHny4vAnIFCRdvfUVXvB\n",
              "6YHPRsmYZBvpKs0L0EVAY4PxLFBzIiVm4nZfopvi26CVg6Qq9nDoUGEgszfJxP0COLuo+Iyiq0vi\n",
              "2TMzYfhyk74tAg5wV4FxTH+7cXrExVrUgDgJGpo0039YtkhNNqtkUhjLsecWb9RR2iMRZ2mYxpMl\n",
              "PJs0IvTHU8d5bOUM7/cC4xrmuGvqRGHMPnHX7LWos62+WyX6Qo02Fl0LGkNYrzz1+oWpPntjxfqV\n",
              "yfxkN/9poQnQ++cqkAytUFKSidHoOE07V7NH4DlXfzc2Ka9H8P10W0aqYgVUI8zUNyP+lmy96NZi\n",
              "pLLhVy0OiLv/duD/oW7D+UyiDvKOHOkTsGb+gHuhDUFvHTamJSyzH+QtO6di9lptEgtNIGQV6wif\n",
              "z3SykEWT5FDl/F24yI+8p0Mz4d2Kt9WFo9HM2MBW+NeYLu9tP2oUITaqC3bVzqJPqy2NAXQ6qLv1\n",
              "SYQCnbXWb6rPMwhS47HyMOfBfGf9clvZtVqGAMyUKNOX98popWkXMrUIRKMvbhbvML3s+w48IhHw\n",
              "hgu0JjXTcBUUEwh96okVDxiJ3AmVIfB7vapjSS5KBnjlkbLJi07MZ0WLZQYX2KZXpGpz63VQkwCZ\n",
              "6zB43A2eBe6EP0A9COMt6fQme/sFkOn7McHlC2aNh3hSih4QhwqceBEZ3BwsVoqKeqj/9Tr81lKU\n",
              "MBAeltzwhGr0kL9NY8kiTkXOLnFS0wcF//VfYICKm5bzWevpn1+DIUHsqWgPdgILU6XFSKAdKPXE\n",
              "pFUxpT5ZJ0geJbZgu2v2pVQBR9uYPA+WdTf80dQUc8bP35NMXv7o/9ln3qXofp47FG7Qni+knWF4\n",
              "YAb2OZcRv63iSuPmIIi/X3oYwzvChyn8wlE7Z1nLViVzGhCGaA1remCMeuP/63phPplxwwbuTBd8\n",
              "P9HO5tZIKHwxpvn1xz9HSJwyqkjXg4Ihi/5NottQnHulotHm57/plZX2Xq4IjJ5hqPgNGTXlzGwa\n",
              "MiVfqR7yFp7nU75d56EDuYbl0EIBAFglg4ebF1W0aGB1lJxyohNq35oaJdS+tWBqiwFeO2W5Z6Dp\n",
              "MwhhLPF3cTRtPY0TBE26ho9DZoenYtRnGLAmvb/Tb0zh1akIsN5HWPmmPMyXf6aEeN1Go3YbzEt4\n",
              "bkbwE8MIZJtFCxBYR4jio1532IvycpCJTEl6JjWDzJOrgMx4ZBQ9pLLvuL9KlVY1aIBHQNqjmTAF\n",
              "3JH6/uFUfgeeyP00CFf5bU5nTd/MNY81gQSnLHRrd1YpqCxJlxi2tQ1D9FVerhr09p9wzrGFTw9u\n",
              "DJ7Ip399dD56I5dl5nPFVZm31714rjc1GYe/QGABlfIn/N5kLvHrSu9aC96iLobDJoV9GQtdpm6i\n",
              "2vMfyVmRxOQV1utWoE2gX83Z0cY7DBozbBMRIgoPAfkJeEfaYuuHmcGqdI3C1cdd6auFAQWVA1yf\n",
              "kxfK5DYSJn7NxIFG9WRtJ5QqY4Nk9z2Eqdf8DlplltwHQ97TFeV8RJBdXcaLmePJJSPEByiCXsNC\n",
              "5z2sRnUOsGXHyXsrZ1iT26Gul+Gd7KDab9LXFnJeZ0AABJwAAAdLQZ5CeIIfAA19Dpk8t5pypwiR\n",
              "OcFAjOUigAQ9lQNNb3kW/q6K//NF7wCxGi0m9XU0aIQuHa5ATJVb3+9M3Z2ctQ3Gi+mbLnPY785p\n",
              "fbqoe4Y1dQZNMOJtbRmJs/Bexk5dKR0FKfVFyW+nH5tR7mHYuOyMmIp5Ad+/PZ/Rcalx2EAAE9IY\n",
              "GFISH40WelcLRX8PQl0t7tJiL9ZqIQdxFaxKUGPRJ3+kl+hVuPg4vN6wwd/H8zfs0Hjme2Dlp6c7\n",
              "Dl0/ziJbC+LwDx564kQLnGWOUeF+WpoOlN2P5Hm4vykFAoec4MTHIGAq4MmgTMJqvQ8EcToQF1fN\n",
              "3R0p70WoY1bGl+9luKfCia/UM0MRuIJcFKhp1fUft2N//bcN2U6DrChc1rBQl5BWBeI7lXkVjrCl\n",
              "I2MU+GmQT4OHujmawnF4IeQ3aUkACmwiqhMndFNxXmr+rdmuR3SXF1at1r0qz4xeFMU/5eyDbSrM\n",
              "p+tuYGLBUZrRFQp8VbFh0ZHQiTq5t5A8JaJt4VV9dpR8TqgOgK91sJTizRBcd3zcGE8Dq7xbGYC7\n",
              "Lc5/9DhEXp5saZPeDGtSDQeI8kAlY9jMPuO75HDo99Wdbya14cSrtMDD+lOp+Y5o67KTAZTNucj4\n",
              "Y9J75KQ33s3GOCEttCGlCLqqc638FMJmyy3HuzSDLnCZzDkSnNVJxbU1KN0h+k+VpruLfprOJCcW\n",
              "8+xU5fBNt28r/xheSe5DlWgMLMQMjlHQlqC/15K6JdrC52oxG04/WzCrL4CFCBQBsvG3Nuk6dAPo\n",
              "TniXGjFydTgHiPEaLiXqUN6OHP36IIkHfSlt+s2kBRNCCLipv5XlT9Cssbz2q0WG5CTkAk+OgEmo\n",
              "PbBNFHuSP5HS7fu+EaIm4ICztYL8o58tJLewgP17Vv47mvsrq+qDkhrjw2f/OeFHMI5kzBYr2KEp\n",
              "tciC1LuRypWDWqW+CFWEzyPZr347Np+8hD1XsXrwfjXXhTwPlDN/UVkZtl5u7UtTk77VkUiKZTKx\n",
              "teHwQcMsmPoko6wSO6Rpa6xvLbwdl0loeg18mAuzZ5IAP515/UrchkufGuievbRoYHvRjEHFpk1U\n",
              "ZiwzdUOtu4DdtCIPx+4DCDX9j7O5iOdZOlH9mmEXZzLqKyOBdmhCVP2nmmOZG4UxA6jKHo9o5Iws\n",
              "UDPdwiKQ5gkRT3nzj0BiVhUlbWIE22sTLEluqrcJw010Yex6c6db0sg+RrXGXurbtsV+nhspKOcr\n",
              "AIw8oozM3zkTzLfEOihBpdNpHabfqbF6NYgFiSk2v0Y+iHApJ/zqXSx8ynq9VB1Gi/KW9Z2I9k+g\n",
              "5sqiE7hJ8lV+KzBAPPt/7xEaifar3f1VLTt1i1q7MKgdX7mpItjECYwt5Ih594TUxM5pt2NBzgAu\n",
              "KttiqQ/YZGQSppfG0IOs91PdI+Yegl4a/vK2aFE3L+EFJl6cFNRBzAUa+69kr7qydGL//q3xtf7X\n",
              "lXCl7nBSSWkPtvGNH6fa+ar7iKRoXCP8EjsqwFVsSx5vl4if8548aNWIjVRdQSlVA3PUhzDWGL5C\n",
              "2Y7VSl9MQ00Crs6ePRgcKsCj+3Feo3WwfV+q17XNW940/KG29mefJ/jvH9Aaly/jwLUm6+bEUJyN\n",
              "Az7uD14MoqjM3QpiMZfiJzrr7KqVcdQZtCbwXeek3fncx1DCWdFG4r8c5ovEmXRnHZXlGNX4QnOd\n",
              "PHRE2VopIbV4M/+IY187G5jVm47FZCfQwtZq3TrVrIVIr7jDAMp+ZacYv91vX++nCWHfFYxIHlkJ\n",
              "+vBQCYL2kEHQZZUXUN4pCAGCA+XC2k+VdnfEk4TeHec1jhFiJRSzP0DS0nItHEw+98uoznemA96l\n",
              "j9Fm1tdN0S3Js6htYa3celD75kXjGbkZm/v6r0MuAKWFsV2MI+MVaB2Ga7HbK2zVFdloSzvOz4No\n",
              "P+d6WHcicOw7DD33GLzwCtd/F/GH4BwEG1Riz2yfrhK4yKzyQgwIFFHT37+kHpuq/FHtAEaZ2awB\n",
              "qVxAG58pCG1Q3mHmzgGH+1czMGRXYsVzcZG/K9frjiEVAtyD3JxmcKH9hlAlbXrT6nMQwHY5yss7\n",
              "LNelfki2qnjyIUjNdrgKXZXxhinwa+hiy/Z6u12tvPXdeaK/tHXthA28fvTedmNMdoWASLSwIQfR\n",
              "do4VVseWEdINgEpNS6EV6dKOppgHtE07p986L8/9/nf98Iu52nVi+kpfLsDupWxpcbNq2eXKQ2+G\n",
              "/WBpx+lcZ8bid5ZHrThahwcl8IwKRiyPwT1dmz5QxUaoe22UfW6dxAfIlr24rq6HaNJW9lKVGAgY\n",
              "WAIeEXa9GQCpyfhZvSnlA7dhJ3EbA5/Xbo3Oi/rywYhLQGZ72PEm+N8P5AgluQbRxvyMQx8d5MIF\n",
              "0kkJ7RmXVlvt3RRlnJrW+yjBD2qffeCF07QTf3AWYdU7jHqujGDyjBMfmTH60+7UxYHqRmGxsCNi\n",
              "yNJe5fhUyyny895V2diOCEe82K1pkAAHBQAABWUBnmF0Q/8AHar2Yz0KVENVQOG64qgulUACE7VS\n",
              "WBLtW1YZn++XlprBUYuC0YyWvIdmBTWjsPerPIF6c7YAJt7OUA6nSyejvhc/XKJOdQLx17mZ7n16\n",
              "azpEttD3FFAnz2O95FhAxvT2dlHV8o/pRYR5M2w94yNa/f0nvdYKibq+bfIhu/0hE+aiulpZaOk8\n",
              "9wo18vaHoZpS09igxl9U/KnRaOxeRJrHAp3J8e7I7D0NxPYMSyWPcXVCPW0oHDHoyugG7q3ToCPI\n",
              "yHqCB8xDUWSB9fFwtQ7EbUYAKDQvNmxLmR9C+fwgr/DDT3hO6d8z97L/WrxHC3vMfBWFXCRQOx9y\n",
              "3/A7qLL8j+kXhpobmwg1IuSzCM/MatWH92Rey6AwkrQImOQ9QvoXQ2BvnVRUHpUfds/OFcoz6w60\n",
              "fkcYHEeee+BVpTAmzQasB7M5rTKKBt5DZIcZRt2s4sxW4lV08xy6jKqdJUpUSU/GFA4ayE6nE5Ij\n",
              "/wLcTGp/DrjQoZ1s0oQdzobDxlLGIK96Df+SoAq63/Aje+IpHLt/TH2+IsRhgdJlimLibWzEppMM\n",
              "66JuSM7TPlSHKNcDuq4MGv8xsl0vYWghjPYs7hZKyl9mApQeeFZ6uECAZYISODuArrxizNJTnQaR\n",
              "AkgqE5sEe/8Qql2Hx5rE8VRH8RMN1M3j2EBl8tpWf8d/qJXZYGTFc9xMwoDF3Zb4Xzoqem6ukDoS\n",
              "GwZqQU/SqqR2opsd6Zui7rXD0RB9hp+OJ+TR30/c6vUNN+IQnbsCevSY3x3vEI2OLvEmr58zsF98\n",
              "eycupr8il/bcP2IC2/3MLXqIGFjGBsTXQVWamTsHvS9FGyHofc0HO7yhXgPUPaAQJ9YCkV2OUFoL\n",
              "zadQrgLDbGJcV8Xm/dqx41ae7XFBWJAXYdNmPDTmWAXfaxQSWMaCGRf1LMUcYb1YpiUBj9ZPyrpF\n",
              "lbQdEbZPq1d+5tJBNiMUilUXQG6PEO4lM5ZUKZGpBn8owcjvN3kE5jD9bWD4qOJp6+g1kq4CEYWb\n",
              "4zS9xx99WRDBQyetcPH4G9b6DfpHQ0MhRKGvzzu7p2WGYG5xNkQJKKiepSnuXBERge13JEzLz0xe\n",
              "UkgkNoqrf34ZEQCnS7cOaI7tD2avPR0ZewLoNEp8eq2Tq89DdYkFIiI4pegKjZ9f9Kx5ENUMO+ut\n",
              "LR/d0veeM4O35KK666Xxsw1mUzQiSnMrQ+cPqOINhf32Gvo5+B/vnv36liQgASN4zGfpoJKf94cj\n",
              "5heF0Ms1iPdROlks+IS40MKB3glRisxDAU6PDuj6jI1UssRHLlM/F3C29rg1ueFOVdJy3s+VOpAS\n",
              "D61Vm7+3IJ65FNWz3alXcSRTcvyvcNYXz3eBdJfpIT/l3TzMNQn8DkhY/bSkBrJTWBcagSQ0l1xM\n",
              "vtYNt/mqNBAn0UExoDcGgIuZDCP0GXZcqu3zGh/RRz4nb4J97W6DpJgjEsIogdgZ3M8l13HZeJ2y\n",
              "jgUAj45lukPwhBui0ZmGeqakQtwu+iDjJQ2ZcPA4jGhWSC1ywi596oLjCt2c4BRhJWDiPbvGq07R\n",
              "9tlePBCI1SOk89/mJVWDq6pvs9OPgRapDfx+iRcahMwMYfoS2HJ7WRXoe++EEMh/bS0NbbAv2x1C\n",
              "NGjbyFCyjY2nzUyHOQci6uPcyoXQLm8lhhYIfZMmmCfWXw/rQyThSI0YpKQKknOd1Q+Rd7Ofypai\n",
              "N9I/75hkUB7Khvzb3XMw8+scPb/u/4yuGp7S/KQr+B0INRo0RlpKbudHH622PK5q4BTNwBL2GgM/\n",
              "AX/ROLodd7GqYCsbU1IMcDVTu7QOUJdrNP2FIQs/9W/Tc+z3GiIAAMWAAAAB8QGeY2pD/wAYz0A2\n",
              "ddz2ACE6qJXvg9JSU8cxqLcjZxDLTR283NeH3RPkUZ2rnHihLQ0GVu/yN/baGSJ9EpKd8d/5mBZj\n",
              "Db7BlJ9SU6Xzf/hn47anM+p+UwCEsgeHvh/Of0qnETdTCAIzLKYvA/oF1mCsvTd1jeFIWfD6UDVs\n",
              "qMYJmT/ob3/5ulTK6MQFLXQ7VQu/X+aETDyLMVoCHnjxgKXSe0LRHBIPRKom4p8Y4gICEpRSnCqq\n",
              "jTIAfTmBXw/D4V8O7y4pA3ZepCm5Gqg/iFzc/nHwgist4kNfwTaTOKMmfJA77Xi1ORtSS1vej3j8\n",
              "lUGP36ziq0/BeZYM0xuNNhgAYW0Q8CkXcWRio4E/qmqE+M3MS3KaxewOZptylV5QXE2KCYS2O0Pl\n",
              "LEpgli4VnbZG80GD0G/OIYKmJa+jHcaYCdNkJ8ylMB0P5oQOIGdi2oqa62spm1vvOJnCAse5Logu\n",
              "jtkRdgBdMe4b+z6GR/aCXrVqZOFCFicbxJNbrhYENoI5foCxd0kB/zpWg+kpur7TM15GT603IvXR\n",
              "WRJjkKml79NSZnmcZi3LkzSjyNG9s9kAcpVh+4vNqwE1SoC0sRg6zAASHx6Aggqb0Kucb0kfXdno\n",
              "GkVSzZSP6Opj35wBlLSZtLkXWYwIBrx8XagAADehAAAEYEGaZkmoQWiZTBTwT//+tSqACuEgcukV\n",
              "ImS7UVX5iuNLvFFFz/htjlVABtW87BLAPjtO2PNolCFbUv2T/h38IpPn8fTsel2DFzinwIuELliu\n",
              "/Sq6K/8g8B+3Bv/PSQLzdqllDn5qc8/eL5GU5HIOGWZDgQlEvtXRRc++1MSnpXjceZHLqaX/PI8N\n",
              "h4RDD7nn/mmm/MRefUybERwUFs5/pqWEGtOoqntAWphkS3rTdEHqGhHL3GMSlB8c58Ngch0ayt1o\n",
              "qC2Xat3D5xYFVsx85Yp/UqkfyIPWRg4KQGEaL/Omy4207D5F0lgAJq2Ec5FuF7OyBMT3oip3hW6k\n",
              "dmzApiph1J+3YxfxZEMlGaMRCVAP3oJ9nPv9DleJRr6XQl6XEjCjz0SerIV9S4erBRHSyKSiKE3a\n",
              "VxInrPuFQ0K/W/iDHBQOyl92m8keTcNZ64CexXdF4k+vEjsdL0l2vx5u40sZxO/Ws1Wh24eHUSFV\n",
              "+UPLSdH7elr+W/4AqKGFm3qyRMWzoo1wHGm1xl2qDkDff3nNIKeYaK3eq3QM7KtpQg7axCtJy0zA\n",
              "u3R5Lyx277G/9RnmTrV27GmfgYO5zCO+Uh3fkmFr3zsChEighSilmZC5sRa61WQetG6EFOWZAPKc\n",
              "jO2yWG1DCpQCts3XpOMAkGUOlJMD7ot3VdE+ODI+v4Kj9juAyAqp8V/BiL82QSpXYcPAT7GQhaYU\n",
              "/v4erSKic1ZCIrmo8cfP8MdvSEIF0mLfkWX8ui6DnBESiPAzkJOQGEirnr6eVNECLtc1hdQQ9xxC\n",
              "q7eCO1Vu1H4I5p6cekngOdr4iApprvh9ZCa571zPTWjQHMQjiqvK+zsknjDSvY/cW/lJYwPTGRKt\n",
              "gjRYeRGg8fPimCXHgOg3y1zxjhlQ0QcwZ+3RAlj0v5QHohEVOuI8unMIgEAcMLFZHEGrSEcL+9Rf\n",
              "1mVPdOnrC/LpF7O5ScUSZZcVZVdnZtFLUbYxvYYEPL7qELRU0xgGznqGD94FZ1fuVKTYxj57Vie3\n",
              "oAdDK+/9GHSvo1wGLL0oSibM+mKQj5PEeECE+CDIsEITVBKYrt1bSMHeAdGIwuG8U79jDrTX3AF3\n",
              "C4fA0SmT68oDrR1o/DR8//l60mOISge9aBEF0aEgEX5EunBP2ElU98AHeidjAHSQ9zdQ8wvwWm7q\n",
              "eK5JxXEOGQ/2gqITl1dFBB78Fh9n2SXObde9aFhyizjwDFsf2LvojKouy/wNOsMzju6w/z5SflhW\n",
              "zozkXphi1S+16tnXVElFPJqVzwA8sB+NKj3GzMOt+1vT3eM7NRCxz8ZBE6zrsVe78UlfYEaw5eNV\n",
              "fdXrf8dyiE2l1Mv1oa0U+/f+YqYJ5X3hyeQLTFh0hJ6Tuqi53VEo5BYevCTbzusppX6axBKnB5v9\n",
              "1TgKlhiMQeo/eSCbahGx2UtZnbEwhf3Gl2/VNkZ3d7LIGxJkmDDrItygrms7Kiysh2W4bVTpVyuR\n",
              "y1KMkWmp9aaPPYGA94UAAAHUAZ6FakP/AB2sIT9Bst5oelAARB8iV3dEaRXaeddrbVK3rLEORexa\n",
              "2uZFcuTl+g7A2yA03NdtN/YiMXgNYHzTm308HBvOBg0KU3a+BoHHzAHXLVgio4J4v2PHNe3XGLrk\n",
              "bY1fV7UY9OaPb56WCjw/wNSRQX7W7AECxP9UXT49QCm0LluH1Vaypi/+N+zjEHvLZDmCUJR9r0e4\n",
              "2r3Xpwhckum2O2LUSofrQ/a6QlPGjvFFko0WcW2mgf6MXA6m+E+8Ce20XZdroPXHQOAfn6ZrubRf\n",
              "6bo7owpe7AdF7uZ8Sumd7FCq15NXEy4fPeqwCJaVqHH7q6ZMKMuvC+YSQzfPnf7LeZ/A++GqVgkU\n",
              "XIGPjrMOPVb3xZLglj04h4x8LaOeZHdxb3YEoBQxWxQE7soc3WjWQmgGfGfeMfGQ1nD9x+B5iZ6n\n",
              "8oo7qsoTLjGT16DUemlfhHYT/0161bodP419X44tGxLRsDdqyRqwk2dwJAUuS5rLOmOSHuTr6AH4\n",
              "oQHrouUDHTv8xZ7QmSEes9hEP9FpOU8hx7rV7qjugZLnszMssDS9lkb3swqUR3DDD/eCuz0tWh1z\n",
              "6nma+dVRejaGwgMV/ci0cEoRRlgAGKDSj/O+zIrZAAADQ0GaiUnhClJlMCCf//61KoAJA5X4ABzm\n",
              "83IRwOH07kotjscrxxi9vUZAqX54SWoN/Rq+8sUUEpDnDmAt+cSRhHZPhDTxeshxvXf5OLM1CuVz\n",
              "6LTDi3YpiYZoz2n7EHxOweGowc6DQBxOfMxcNexC2Acs8q+58PiqqUGYtxJnWwvoJgPP2LHTgH4u\n",
              "a1Jj1xlE6iql3eIggPTh2iZhXtNS/WaaymRCSHrX6WbVa2Oo/5Gplty7IpP9OoOWOSGEn09aAS+d\n",
              "wgO/zI80aV5GSEPSUA6bVWOXR7TyolGWofhd9DrguTv3CU+A/vT3pa6qi9ZGx11cU7KUXClmEn6u\n",
              "OVwzng6ez3rn5Rco//pEsqzclHeXhsFpH6zia1kMqFz4i+y9/hhFWdrYTQIe6qz00oa72rgKLkMR\n",
              "kLYICfywaqwg80Q8eRHMnCsBN7uksJ5ytspAAoXoPU5jkMDTQ6vYi6us4P84uDYrpJ+LEYz4hpVF\n",
              "s6GUKtvmBTco0PNnZVUM+U3AgRgX/ertI8cqBrba7R0EBpfetMs6Gdlilf6ygOGvluJtcMedFFgq\n",
              "Rjrg1Mofj3MWLmQyCF+kGdQCEF+nCpjJAklQlZ0TlDs3rH3CRyPaXsflmQYeqml1+js5URNCUroz\n",
              "WmeYAN9csYjhnPHmh8nEVspnYJt4IsRzbM3YCwWxoFgpebkgOWNvSI3TMgdNgqJYAOdn6z65G7c7\n",
              "aOUdsZmdIWxbuxSyzPpGSTiv3i6hUDA1P8aOaK/DsDPZvD2dajLBLUh6ehRdOaXj5ZyHAbAJ4Fij\n",
              "0iNuEgOjDEwlzIKSFlLvSaByg3cABl5BqggB/0ObgXu+f0wocEKgsmQTJqm4guARbgAIELLrxrT9\n",
              "2yl0NPO5xZdhxURsSwTl5AjoCHfCIFTn11JZeCFXO+4Mid8C5kg/KzwdPSEGXIRE4Tbd+9JmaKFa\n",
              "OkkwMpxEPtMdJ1PSF1ilwuIpDIxsmK0Gxo037TA+r7ToyFQaYSZdRvPhxJw2CRVZmE1TdMYKPkdb\n",
              "hjKFxdunmxb3vQ2+CaCG5UhU+a0ikBRpOJ9QP/NT4wgUR29lYUiGmvo9HQYH5EVs3xZcKDI4xsij\n",
              "VOrTalUAANO/BpQTvmEAAAG9QZ6nRTRMEP8AC2FZgAiD58AS1DcVo1p0qYyDkflaW8byJsusxfsk\n",
              "X/lNnc9T5kmZQt4VX97emzDmeN1hZmGkvmgw0zQwmImHTvkQJkfWBW1l106X9F8vkp6kEEBfzCpB\n",
              "/V6drKH15V2HsPfmi0eoG+lvTAvSmkfe4ysioTOJX/r1gAUn3rEcrO35tyAZSpj/e3zI0Kour6pH\n",
              "+WmPD+daoegpwMZ3Vt3VYfQGUfbDUmONSHByrCiDkZv2EsUnFO1bVQu5GvYKkDCZV6p4BXf3tjES\n",
              "cbfPAFS0MAjxK/oflWM6s4vOflt0v36WDXb6u6X0xsSRBGWNkeXfwk8hb7L89h8seN1AELpxYIpp\n",
              "Xmy1wjjLKRAXgqvZctXVknWDfTN9TOFvY0DaKoaevPFu9/HuNfJ2VtKwbeUvrcQt0AaPise7pKF5\n",
              "kHtUiIWCR0qi9ZKsEDp5evOCdu2DRVTetYfhNA9ydmmGhlcLd/S0JKmMSjY6ixqlehZIcevMJoTj\n",
              "bjj1VFohaAvDVSrYy7q80ckWusvTg/8TQUiiISPZXjUtFi//A3B2BZyX5gSzDs/dnIAAz33TK5qm\n",
              "WAAEtumOOAAAAU4BnshqQ/8AGTKzABtV2UgAVAstzM9Zq2gQp9eL4G4l+cAwF/hkVkIAhhK117uQ\n",
              "AiPdQ7Dbb8eOn8IhRrNi0k1IpszU/8RQH7+90ZPn9rlwsclFCjeUAbjsy2AuXLgAGBgLBOOwAjG/\n",
              "La5C9ZNKiW+fXbIyfFBRN6i7M4zcb/i110A9oAQa1V7D/NFvt3rncoAuHzdfyDfPGSg91W9igAF+\n",
              "4R7VucNglz8lb8svhXniiMGK3Cnqte3LiguPyGEf0DaeQIqb3EH0z8HMt0t3thIsHi2xtB3XqKYS\n",
              "Me21G8bZUaIzRYP/IY/MwvK8yfPjmmCsPtpbKvpdTxQe40SAuFHaJG/bB/om8bnUc6GHfo/NMAuB\n",
              "sT+Zpp82MO84ogakIkvyu26BrPK7kr/Qw2n8B0qfQqEvUq1DrBgIVAFXOK4de98j0S2GN6qZYAAc\n",
              "99QQAAABhUGazUmoQWiZTAgn//61KoAJDzVymkXo6ooAA7TZnKOvZS7TLEviX3fqvCBQtRS3f6ri\n",
              "Uy+qlLIjFVfk3xepM0cJ+u/+bwfTs/gyeJLHD5wWeMkCQA/4TAuE+JzApJJDIOL8TXD1wWN3KFQv\n",
              "SLzcrhztZwcntJ1P5S2e8xbUbTb2FnrfUci6ewhexKTtgaUHKBg302MvcvkQGc50sroAyOXSsoDl\n",
              "/yzTcSnMB0wiw+0sl2B5uvZy9RY4ABNW3A4+xfLmXl5u/2n4bYqeafyVLN9F1SD5OloEZW9viLZ8\n",
              "oc+jgwK9AwMw7gPPT3Aa4dWoJS2Hkd7ivSMaKFQJSlVYWmu71JvCuqj7jEePfkFZW3At+WOdq+6s\n",
              "BVgpTbatxN3WhhPXgWopGmM5GTA9G9V7CZY8c+kvnIJJP2HgaaQkeC2rCYc3jIa7jT3A5lxjF66/\n",
              "8CT8sGakTc6XQff+FLCG0KiOGYOXZE27LJWbIi8fGT0SCstlubrbydc0S/woK1TLAADb5WLpAAAB\n",
              "JkGe60URLBD/AAtX8kwATtv5ETnY9xYsuwBvMNx8ZgTLD7mNh6UO1I87NdZk1hfCISht3nU/hpZ/\n",
              "hZB8BgAMBB08GyQGaHmOpIR6LJdyrJS36/9C7eR2CNR9GBQIcwS4oJX0QaRnpYiiKLtR44uBlT4C\n",
              "FRrwsnmVg6U5PMF/p3LzNRWI3dM345Pg1SEA6d4uqbL5Fd+hJrLEcuDCAkinb0IiJSoezVWMtgm1\n",
              "vdA6nA0N2gIw2wn1eOHcedW2aeMmxxt/0FWgGVKFagBLfkaUdC17x6h+//gomZP9J3XMtUB+hxTg\n",
              "Y9thRN5ykYE+LAfuKYUEHofe7FqyEKzSktpRRsLbH8+LD4CoQdAomhKlxX/gkCZa4W/pwMdU9zi/\n",
              "3VMsAAZGu4wHdAAAAOgBnwp0Q/8AROMzDs9WAEKdX+obmddBCgPDgN/yt5KZ3mBcfZAtIvR2/puD\n",
              "8Joyd4RaKE4yeEBLRd3D+ZiTOH/bxIHGiXcVDocAAby/gCOisX9t5HHdLTKdjUGEHwyNkq6jSPeF\n",
              "2oPMEaL7ewH9DKD7nX1+UsjicOqJgwB4WfAAF1aDoYPtwj/tssWYyZSAW+T+B7G0BDSg5DSe2LaV\n",
              "oGtCLAFh/pmDMQrzpokYJ3nuZPLEWscUGG2YL/1ID0ippI2wSjiqsxI4l7XVyw129Ccg/tH7zIwZ\n",
              "Avd9zr8yeS3BfNVUywABBM4pAAAA3wGfDGpD/wBE2j8QqgA2qvU27jB8bIR362sYEN549LQrsQDT\n",
              "K+QHFvIpDg01gr9XaME6CfHf9ei79/b6U09/Pp7Q8v5JQLguvEsARrcXUPf+6h4tBzkAmZe4oth+\n",
              "fL/rVQFHMjPgr26Ug9hVDG6m8IiRYfH+KJQqhpJV1N79/NYfu3r1gAFLTVCQIV0+adn4ZhLEF06P\n",
              "Y+f2xuF/MMx6CcfbKXE/MHIi00g6g5kUz/b6/Y3Aqw/JZykfUQPfEzs43x4lZvqkm678kpisK07M\n",
              "9xZq32LbP35XTlaMVQAAB/kAAAFKQZsRSahBbJlMCCP//rUqgAkBjfgHnEjhxrAAmrwtoW0Z+yGF\n",
              "TD9BR4Smp3ee9A3LqVldcXbph6ghbM/Q9hx/4TD7yrWOJilfnfpMnDQpyaSLQg9QxqcCjRzutIGC\n",
              "cM5ok3gM2/n7WaBKdBx/gs7jpYz1ydNMYA2Jukro57g4cHwlyyD8c+l1RepGda5wlfq9TVMyS/26\n",
              "ShPau5YhU6xLn1rbovkKUnwn8elOLyEORu/xpcDj6yLoZZthh9IkVstJabg1EOCSRwiF6qROjzlJ\n",
              "elpvNqWAAcfz78D86l1gNhSsb/0Il3tsIvXp8RkHsKksxOgy9h5Ro6T9yCYflW697/RtDQYbBLRB\n",
              "rv6qAXiAn2yvuzL8UTyEy5emBoSSijNNAfGCWvps+CQfYBOo9rZwkEY4eCf01apl2kv3RgplRg/y\n",
              "4/LbwGzZ7lbBAAAAvkGfL0UVLBD/AB47+73hSiyVv4ADkm53l7yY0guGM1GudZyZovYp4uf1Uz3H\n",
              "o5pcsank2CFUwfJqtaBL+FyzHfkmbIKZ29XHVTpI2WeItMbFpzynYCOqsfPVtDBckiDbqOhmbB7K\n",
              "ny//GTqBAASmQYy5ANwy1uMZSir0MhpAoUEVwhSzNtFRX6XUB9lPUomp59R1X3i2pba4PvYujZWx\n",
              "d+pHItAuNeqHPCN5phkTFRwAUXbN8Bm6FGWAAVmbBW0AAACDAZ9OdEP/AETjMxsQwARB3cl317RP\n",
              "VMjHsC7TpX1UwuBI5EwgjO4GA/4RyT8R7nxPwHpwacBh/0iUGcy95990M7ABQeZeuP7KVTSN5adV\n",
              "lXc3Ggz6hx+gAH68fR3MkTPZGh83bBT8U7UOxKj0IRb9YD9OS10Ytl5+nKtarzD9YCJkfPgAAAD6\n",
              "AZ9QakP/AETaNrXo3cAG1XVesASDAFrApsj4zpF9Pp45+GFCc4Oyn2zVF+Wyyh3E0w6ujYJ8Qgdj\n",
              "z3Lo8sZyz5oe6R8XVvmQbai9+ASkIISI7hOJZv+1LWIkigPt5WemeBMiN0kf4/8bpn7QeiXJMGr4\n",
              "TkiwRUXGRRZs01WyKckNk473V/8WLF0wnlGsfSlMxaj98Nj6It+ROXfpf8Y4No3T/I8EaMnjmVpd\n",
              "B+Rfbf4z7WrxV5LlWOPIbYWe/sdUfnfG2xoZDtxQbmYToosjULMv2CQAC6EL6OZPnD09eJsRckIE\n",
              "1jzLWNU7aJ9p2Hy2XPOClVjZWEAB0wAAALdBm1NJqEFsmUwUTD///qmWAEYW07ABCndxocia4IFU\n",
              "CbJXS2t2ucg46bCgj6EQ6xMrAPc+IqHpIyVFRsBLJjvIvXanBzUCe6/YlbSxWcW8p9bMRA1Iul7U\n",
              "uk7fAAArLPDzKvH8zboP6vMRFAQ+wuMPLKSEIEFHFXi5v9ZEduyjDD0/Hg5eUm+D/tqmWbSPRoKE\n",
              "jwGZ0YxiAnEcWT+L3XkYd5XkFP+H71B/+0D9fIf+xG1KWLSwLyEAAABaAZ9yakP/AETg11K8d2Dw\n",
              "AbVTRnp2C0Zs+rL/4QqFXmQmFR6nz96Q+EuewBLF3wVmF0i46pD82lrtXODp7CvFLh7Jukc/a70Z\n",
              "AQABGWq8HWv49EHCMJZ2sK+AAAAEFm1vb3YAAABsbXZoZAAAAAAAAAAAAAAAAAAAA+gAAA+gAAEA\n",
              "AAEAAAAAAAAAAAAAAAABAAAAAAAAAAAAAAAAAAAAAQAAAAAAAAAAAAAAAAAAQAAAAAAAAAAAAAAA\n",
              "AAAAAAAAAAAAAAAAAAAAAAAAAAIAAANAdHJhawAAAFx0a2hkAAAAAwAAAAAAAAAAAAAAAQAAAAAA\n",
              "AA+gAAAAAAAAAAAAAAAAAAAAAAABAAAAAAAAAAAAAAAAAAAAAQAAAAAAAAAAAAAAAAAAQAAAAAKA\n",
              "AAAB4AAAAAAAJGVkdHMAAAAcZWxzdAAAAAAAAAABAAAPoAAAEAAAAQAAAAACuG1kaWEAAAAgbWRo\n",
              "ZAAAAAAAAAAAAAAAAAAAKAAAAKAAVcQAAAAAAC1oZGxyAAAAAAAAAAB2aWRlAAAAAAAAAAAAAAAA\n",
              "VmlkZW9IYW5kbGVyAAAAAmNtaW5mAAAAFHZtaGQAAAABAAAAAAAAAAAAAAAkZGluZgAAABxkcmVm\n",
              "AAAAAAAAAAEAAAAMdXJsIAAAAAEAAAIjc3RibAAAALNzdHNkAAAAAAAAAAEAAACjYXZjMQAAAAAA\n",
              "AAABAAAAAAAAAAAAAAAAAAAAAAKAAeAASAAAAEgAAAAAAAAAAQAAAAAAAAAAAAAAAAAAAAAAAAAA\n",
              "AAAAAAAAAAAAAAAAABj//wAAADFhdmNDAWQAFv/hABhnZAAWrNlAoD2hAAADAAEAAAMACg8WLZYB\n",
              "AAZo6+PLIsAAAAAcdXVpZGtoQPJfJE/FujmlG88DI/MAAAAAAAAAGHN0dHMAAAAAAAAAAQAAABQA\n",
              "AAgAAAAAFHN0c3MAAAAAAAAAAQAAAAEAAACoY3R0cwAAAAAAAAATAAAAAQAAEAAAAAABAAAoAAAA\n",
              "AAEAABAAAAAAAQAAAAAAAAABAAAIAAAAAAEAABgAAAAAAQAACAAAAAABAAAgAAAAAAIAAAgAAAAA\n",
              "AQAAKAAAAAABAAAQAAAAAAEAAAAAAAAAAQAACAAAAAABAAAoAAAAAAEAABAAAAAAAQAAAAAAAAAB\n",
              "AAAIAAAAAAEAABgAAAAAAQAACAAAAAAcc3RzYwAAAAAAAAABAAAAAQAAABQAAAABAAAAZHN0c3oA\n",
              "AAAAAAAAAAAAABQAACCiAAAHMAAAB08AAAVpAAAB9QAABGQAAAHYAAADRwAAAcEAAAFSAAABiQAA\n",
              "ASoAAADsAAAA4wAAAU4AAADCAAAAhwAAAP4AAAC7AAAAXgAAABRzdGNvAAAAAAAAAAEAAAAsAAAA\n",
              "YnVkdGEAAABabWV0YQAAAAAAAAAhaGRscgAAAAAAAAAAbWRpcmFwcGwAAAAAAAAAAAAAAAAtaWxz\n",
              "dAAAACWpdG9vAAAAHWRhdGEAAAABAAAAAExhdmY1OC4yOS4xMDA=\n",
              "\">\n",
              "  Your browser does not support the video tag.\n",
              "</video>"
            ]
          },
          "metadata": {},
          "execution_count": 30
        },
        {
          "output_type": "display_data",
          "data": {
            "text/plain": [
              "<Figure size 640x480 with 1 Axes>"
            ],
            "image/png": "[encoded data removed]"
          },
          "metadata": {}
        }
      ]
    },
    {
      "cell_type": "code",
      "source": [],
      "metadata": {
        "id": "KMN1RqzFQrSq"
      },
      "execution_count": null,
      "outputs": []
    }
  ]
}