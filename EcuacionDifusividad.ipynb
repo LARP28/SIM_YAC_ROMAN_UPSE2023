{
  "nbformat": 4,
  "nbformat_minor": 0,
  "metadata": {
    "colab": {
      "provenance": [],
      "authorship_tag": "ABX9TyM7XxAuSV35zjjwTaXeg7A5",
      "include_colab_link": true
    },
    "kernelspec": {
      "name": "python3",
      "display_name": "Python 3"
    },
    "language_info": {
      "name": "python"
    }
  },
  "cells": [
    {
      "cell_type": "markdown",
      "metadata": {
        "id": "view-in-github",
        "colab_type": "text"
      },
      "source": [
        "<a href=\"https://colab.research.google.com/github/LARP28/SIM_YAC_ROMAN_UPSE2023/blob/main/EcuacionDifusividad.ipynb\" target=\"_parent\"><img src=\"https://colab.research.google.com/assets/colab-badge.svg\" alt=\"Open In Colab\"/></a>"
      ]
    },
    {
      "cell_type": "markdown",
      "source": [
        "**Ecuacion de la difusividad**\n",
        "\n"
      ],
      "metadata": {
        "id": "NIgrbnx4SYNQ"
      }
    },
    {
      "cell_type": "code",
      "source": [
        "def ED(a,b,c,d,e):\n",
        "  return (((a-(2*b)+c)/(d*d))*e) + b\n"
      ],
      "metadata": {
        "id": "WBg1hg2jTo9Z"
      },
      "execution_count": 3,
      "outputs": []
    },
    {
      "cell_type": "code",
      "source": [
        "ED(0,3020,3896,100,1000)\n"
      ],
      "metadata": {
        "colab": {
          "base_uri": "https://localhost:8080/"
        },
        "id": "4BcBMvHZTosn",
        "outputId": "ef5b6c58-f548-427c-9f8e-282ffe1e12c7"
      },
      "execution_count": 5,
      "outputs": [
        {
          "output_type": "execute_result",
          "data": {
            "text/plain": [
              "2805.6"
            ]
          },
          "metadata": {},
          "execution_count": 5
        }
      ]
    },
    {
      "cell_type": "markdown",
      "source": [
        "La ecuacion me da los mismos valores que en excel"
      ],
      "metadata": {
        "id": "PZAKPkROnZv6"
      }
    }
  ]
}