{
  "nbformat": 4,
  "nbformat_minor": 0,
  "metadata": {
    "colab": {
      "provenance": [],
      "authorship_tag": "ABX9TyPv0dhGql/dka82YpsfbjIf",
      "include_colab_link": true
    },
    "kernelspec": {
      "name": "python3",
      "display_name": "Python 3"
    },
    "language_info": {
      "name": "python"
    }
  },
  "cells": [
    {
      "cell_type": "markdown",
      "metadata": {
        "id": "view-in-github",
        "colab_type": "text"
      },
      "source": [
        "<a href=\"https://colab.research.google.com/github/LARP28/SIM_YAC_ROMAN_UPSE2023/blob/main/Ecuacion_difusividad_Clase.ipynb\" target=\"_parent\"><img src=\"https://colab.research.google.com/assets/colab-badge.svg\" alt=\"Open In Colab\"/></a>"
      ]
    },
    {
      "cell_type": "code",
      "execution_count": 51,
      "metadata": {
        "id": "4vG7fkTd6LRG"
      },
      "outputs": [],
      "source": [
        "P=[0, 4000, 4000, 4000, 0] #Condiciones Iniciales\n",
        "Nodos= len(P)\n",
        "Nodos2=[0,1,2,3,4]\n",
        "Tiempo=100\n",
        "DT=10\n",
        "dx=200\n",
        "interacciones= Tiempo/DT\n",
        "t= DT\n",
        "Pin=P\n",
        "Pin2=Pin\n",
        "Pdt=[0,0,0,0,0]\n",
        "import numpy as np\n",
        "\n"
      ]
    },
    {
      "cell_type": "code",
      "source": [
        "def Presdt(P1,P2,P3,deltat,deltax):\n",
        "  return(((P1-2*P2+P3)/(deltax*deltax))*deltat)+P2"
      ],
      "metadata": {
        "id": "LteqTRNf7oh0"
      },
      "execution_count": 52,
      "outputs": []
    },
    {
      "cell_type": "code",
      "source": [
        "Presdt(P[0],P[1],P[2],DT,dx)"
      ],
      "metadata": {
        "colab": {
          "base_uri": "https://localhost:8080/"
        },
        "id": "FfCbhW3aDUpv",
        "outputId": "86797c66-d19b-44e4-ee02-2174338cacd8"
      },
      "execution_count": 53,
      "outputs": [
        {
          "output_type": "execute_result",
          "data": {
            "text/plain": [
              "3999.0"
            ]
          },
          "metadata": {},
          "execution_count": 53
        }
      ]
    },
    {
      "cell_type": "code",
      "source": [
        "while t<Tiempo:\n",
        "  for i in (Nodos2):\n",
        "    if i==0:\n",
        "      Pdt[i]=P[0]\n",
        "    elif i==len(Nodos2)-1:\n",
        "      Pdt[i]=P[len(Nodos2)-1]\n",
        "    else:\n",
        "      Pdt[i]=Presdt(Pin[i-1],Pin[i],Pin[i+1],DT,dx)\n",
        "  t=t+DT\n",
        "  Pin=Pdt\n",
        "  Pin2=np.append(Pin2,Pdt)\n",
        "print(Pin2)"
      ],
      "metadata": {
        "colab": {
          "base_uri": "https://localhost:8080/"
        },
        "id": "mkegPrd59NjM",
        "outputId": "802669f5-de94-460d-e72b-e67c7aae334d"
      },
      "execution_count": 55,
      "outputs": [
        {
          "output_type": "stream",
          "name": "stdout",
          "text": [
            "[   0.         4000.         4000.         4000.            0.\n",
            "    0.         3999.         4000.         3999.            0.\n",
            "    0.         3998.0005     3999.99925012 3998.00049981    0.\n",
            "    0.         3997.00149956 3999.998001   3997.00149906    0.\n",
            "    0.         3996.00299831 3999.99625312 3996.00299738    0.\n",
            "    0.         3995.00499588 3999.994007   3995.00499438    0.\n",
            "    0.         3994.00749188 3999.99126311 3994.0074897     0.\n",
            "    0.         3993.01048595 3999.98802198 3993.01048296    0.\n",
            "    0.         3992.01397771 3999.98428408 3992.01397379    0.\n",
            "    0.         3991.0179668  3999.98004992 3991.01796181    0.        ]\n"
          ]
        }
      ]
    }
  ]
}